{
 "cells": [
  {
   "cell_type": "code",
   "execution_count": 56,
   "id": "e2acc4af",
   "metadata": {},
   "outputs": [],
   "source": [
    "import os\n",
    "from pathlib import Path\n",
    "import requests\n",
    "from dotenv import load_dotenv\n",
    "from pydantic import BaseModel, Field\n",
    "from typing import Any, Dict, List, Optional, Union, Annotated\n",
    "from typing_extensions import Literal, TypedDict\n",
    "from enum import Enum\n",
    "from langchain_core.messages import HumanMessage, SystemMessage, ToolMessage\n",
    "from langchain_core.tools import tool\n",
    "from langchain.chat_models import init_chat_model\n",
    "from langgraph.graph import MessagesState, StateGraph, START, END\n",
    "from googleapi_tool import TravelAssistant\n",
    "from IPython.display import Image, display\n"
   ]
  },
  {
   "cell_type": "code",
   "execution_count": 63,
   "id": "2e382f10",
   "metadata": {},
   "outputs": [],
   "source": [
    "llm = init_chat_model(\"gpt-4.1-mini\") "
   ]
  },
  {
   "cell_type": "code",
   "execution_count": 64,
   "id": "79717cb6",
   "metadata": {},
   "outputs": [
    {
     "data": {
      "text/plain": [
       "True"
      ]
     },
     "execution_count": 64,
     "metadata": {},
     "output_type": "execute_result"
    }
   ],
   "source": [
    "dotenv_path = Path(\".env\")\n",
    "load_dotenv(dotenv_path=dotenv_path)"
   ]
  },
  {
   "cell_type": "code",
   "execution_count": 30,
   "id": "b995ff30",
   "metadata": {},
   "outputs": [],
   "source": [
    "@tool\n",
    "def nearby_place_search(\n",
    "    lat: Annotated[float, \"Latitude coordinate (-90 to 90)\"],\n",
    "    lng: Annotated[float, \"Longitude coordinate (-180 to 180)\"],\n",
    "    topics: Annotated[str, \"Search keywords (e.g., 'restaurants', 'hotels', 'attractions')\"],\n",
    "    radius: Annotated[Optional[int], \"Search radius in meters (default: 1000)\"] = 1000,\n",
    "    max_places: Annotated[Optional[int], \"Maximum number of places to return (default : 10)\"] = 10,\n",
    "    open_now: Annotated[Optional[bool], \"Only return places open now (default: True)\"] = True\n",
    ") -> Dict[str, Any]:\n",
    "    \"\"\"\n",
    "    Search for nearby places using Google Places API.\n",
    "   \n",
    "    Returns a dictionary containing information about nearby places including\n",
    "    names, ratings, addresses, and other relevant details. Always keep the default\n",
    "    values for radius, max_places, and open_now unless the user have specific needs.\n",
    "    \"\"\"\n",
    "    try:\n",
    "        # Get API key securely from environment\n",
    "        api_key = os.getenv('GOOGLE_API')\n",
    "        if not api_key:\n",
    "            return {\"error\": \"Google API key not found in environment variables\"}\n",
    "       \n",
    "        # Create assistant and search\n",
    "        assistant = TravelAssistant(api_key)\n",
    "        result = assistant.find_nearby_places(\n",
    "            lat=lat,\n",
    "            lng=lng,\n",
    "            topics=topics,\n",
    "            radius=radius,\n",
    "            max_places=max_places,\n",
    "            open_now=open_now\n",
    "        )\n",
    "        return result\n",
    "    except Exception as e:\n",
    "        return {\"error\": f\"Failed to search nearby places: {str(e)}\"}\n",
    "\n",
    "\n",
    "@tool\n",
    "def get_weather(\n",
    "    lat: Annotated[float, \"Latitude coordinate (-90 to 90)\"],\n",
    "    lng: Annotated[float, \"Longitude coordinate (-180 to 180)\"],\n",
    ") -> float:\n",
    "    \"\"\"\n",
    "    Returns the current temperature in Celsius for the given latitude and longitude.\n",
    "    \"\"\"\n",
    "    url = (\n",
    "        f\"https://api.open-meteo.com/v1/forecast\"\n",
    "        f\"?latitude={lat}&longitude={lng}\"\n",
    "        f\"&current=temperature_2m,wind_speed_10m\"\n",
    "    )\n",
    "    \n",
    "    response = requests.get(url)\n",
    "    response.raise_for_status()  # Raise error if bad response (good practice)\n",
    "    data = response.json()\n",
    "    \n",
    "    try:\n",
    "        return data['current']['temperature_2m']\n",
    "    except KeyError:\n",
    "        raise ValueError(\"Temperature data not available in response.\")\n"
   ]
  },
  {
   "cell_type": "code",
   "execution_count": 65,
   "id": "cc1bb94f",
   "metadata": {},
   "outputs": [],
   "source": [
    "tools = [nearby_place_search, get_weather]\n",
    "tools_by_name = {tool.name: tool for tool in tools}\n",
    "llm_with_tools = llm.bind_tools(tools)"
   ]
  },
  {
   "cell_type": "code",
   "execution_count": null,
   "id": "5b903bb2",
   "metadata": {},
   "outputs": [],
   "source": [
    "def llm_call(state: MessagesState) -> dict:\n",
    "    \"\"\"LLM decides whether to call a tool or not.\"\"\"\n",
    "\n",
    "    system_prompt = \"\"\"You are a helpful assistant tasked with helping users find information about places and weather and act as a travel assistant.\n",
    "\n",
    "There are specific guidelines for each tool call.\n",
    "If you call for nearby_place_search, select top 3 restaurants based on reviews and ratings, and for each place in the final top 3, provide:\n",
    "- Name\n",
    "- Rating\n",
    "- Price_Level\n",
    "- A concise, summarized text combining description and review summary that highlights key aspects of the place.\n",
    "- Google_Maps_Link\n",
    "If you call for get_weather, provide the current temperature in Celsius.\n",
    "\"\"\"\n",
    "\n",
    "    return {\n",
    "        \"messages\": [\n",
    "            llm_with_tools.invoke(\n",
    "                [SystemMessage(content=system_prompt)] + state[\"messages\"]\n",
    "            )\n",
    "        ]\n",
    "    }\n",
    "\n",
    "\n",
    "\n",
    "def tool_node(state: dict):\n",
    "    \"\"\"Performs the tool call\"\"\"\n",
    "\n",
    "    result = []\n",
    "    for tool_call in state[\"messages\"][-1].tool_calls:\n",
    "        tool = tools_by_name[tool_call[\"name\"]]\n",
    "        observation = tool.invoke(tool_call[\"args\"])\n",
    "        result.append(ToolMessage(content=observation, tool_call_id=tool_call[\"id\"]))\n",
    "    return {\"messages\": result}\n",
    "\n",
    "\n",
    "def should_continue(state: MessagesState) -> Literal[\"environment\", END]:\n",
    "    \"\"\"Decide if we should continue the loop or stop based upon whether the LLM made a tool call\"\"\"\n",
    "\n",
    "    messages = state[\"messages\"]\n",
    "    last_message = messages[-1]\n",
    "    # If the LLM makes a tool call, then perform an action\n",
    "    if last_message.tool_calls:\n",
    "        return \"Action\"\n",
    "    # Otherwise, we stop (reply to the user)\n",
    "    return END"
   ]
  },
  {
   "cell_type": "code",
   "execution_count": 75,
   "id": "d7b19568",
   "metadata": {},
   "outputs": [],
   "source": [
    "# result = llm_call(\n",
    "#     {\n",
    "#         \"messages\": [\n",
    "#             HumanMessage(\n",
    "#                 content=\"Recommend me some museums in Hamburg, Germany. \"\n",
    "#             )\n",
    "#         ]\n",
    "#     }\n",
    "# )\n",
    "\n",
    "# for tool_call in result['messages'][0].tool_calls:\n",
    "#     toolname = tool_call[\"name\"]\n",
    "#     arguments = tool_call[\"args\"]\n",
    "\n",
    "# tool = tools_by_name[toolname]\n",
    "# tool.invoke(arguments)"
   ]
  },
  {
   "cell_type": "code",
   "execution_count": 76,
   "id": "54c4cb79",
   "metadata": {},
   "outputs": [],
   "source": [
    "agent_builder = StateGraph(MessagesState)\n",
    "\n",
    "# Add nodes\n",
    "agent_builder.add_node(\"llm_call\", llm_call)\n",
    "agent_builder.add_node(\"environment\", tool_node)\n",
    "\n",
    "# Add edges to connect nodes\n",
    "agent_builder.add_edge(START, \"llm_call\")\n",
    "agent_builder.add_conditional_edges(\n",
    "    \"llm_call\",\n",
    "    should_continue,\n",
    "    {\n",
    "        # Name returned by should_continue : Name of next node to visit\n",
    "        \"Action\": \"environment\",\n",
    "        END: END,\n",
    "    },\n",
    ")\n",
    "agent_builder.add_edge(\"environment\", \"llm_call\")\n",
    "\n",
    "# Compile the agent\n",
    "agent = agent_builder.compile()"
   ]
  },
  {
   "cell_type": "code",
   "execution_count": 77,
   "id": "0bfafce1",
   "metadata": {},
   "outputs": [
    {
     "data": {
      "image/png": "[encoded data removed]",
      "text/plain": [
       "<IPython.core.display.Image object>"
      ]
     },
     "metadata": {},
     "output_type": "display_data"
    }
   ],
   "source": [
    "display(Image(agent.get_graph(xray=True).draw_mermaid_png()))"
   ]
  },
  {
   "cell_type": "code",
   "execution_count": 80,
   "id": "13175004",
   "metadata": {},
   "outputs": [
    {
     "name": "stdout",
     "output_type": "stream",
     "text": [
      "Warning: Distance calculation failed: Distance Matrix API error: REQUEST_DENIED\n",
      "Summarizing reviews...\n",
      "Successfully saved 10 places to scraped_data.json\n",
      "================================\u001b[1m Human Message \u001b[0m=================================\n",
      "\n",
      "Give me some asian restaurants in lat: 52.53 and lng: 13.405\n",
      "==================================\u001b[1m Ai Message \u001b[0m==================================\n",
      "Tool Calls:\n",
      "  nearby_place_search (call_dnJFsmzW8HiXeJluL0fHgCdD)\n",
      " Call ID: call_dnJFsmzW8HiXeJluL0fHgCdD\n",
      "  Args:\n",
      "    lat: 52.53\n",
      "    lng: 13.405\n",
      "    topics: asian restaurants\n",
      "    max_places: 10\n",
      "    open_now: True\n",
      "=================================\u001b[1m Tool Message \u001b[0m=================================\n",
      "\n",
      "{'search_parameters': {'latitude': 52.53, 'longitude': 13.405, 'topics': 'asian restaurants', 'radius': 1000, 'timestamp': '2025-06-14 17:36:17'}, 'places': [{'Name': 'Rice and Shine Berlin', 'Rating': 4.8, 'Price_Level': None, 'Place_ID': 'ChIJQdmBVwBRqEcRONRE7NCubrA', 'Google_Maps_Link': 'https://www.google.com/maps?q=place_id:ChIJQdmBVwBRqEcRONRE7NCubrA', 'Distance': 'Distance unavailable', 'Dine_In_Available': True, 'Description': None, 'Coordinates': {'lat': 52.5297364, 'lng': 13.4005484}, 'Review_Count': 5, 'Review_Summary': 'The food is quite delicious and authentic compared to other restaurants in Berlin. We came on the day the restaurant was filming so the foods took a while. The holiday decor is especially great.'}, {'Name': 'Le Hung - fresh asian food', 'Rating': 4.5, 'Price_Level': 1, 'Place_ID': 'ChIJYRuc5h9OqEcRa0-PXXClJIs', 'Google_Maps_Link': 'https://www.google.com/maps?q=place_id:ChIJYRuc5h9OqEcRa0-PXXClJIs', 'Distance': 'Distance unavailable', 'Dine_In_Available': True, 'Description': None, 'Coordinates': {'lat': 52.52194650000001, 'lng': 13.4077519}, 'Review_Count': 5, 'Review_Summary': 'Service was AMAZING. Our server was very sweet. Food came out fast, and it was soooooo good. The flavor was powerful in each bite. I had the mango curry with chicken and spring rolls. My husband had masman curry and the chicken spring rolls. Pricing is reasonable and the portions are huge.'}, {'Name': 'SOY', 'Rating': 4.6, 'Price_Level': 2, 'Place_ID': 'ChIJbX7JCh5OqEcRQbUaQ-aMoFA', 'Google_Maps_Link': 'https://www.google.com/maps?q=place_id:ChIJbX7JCh5OqEcRQbUaQ-aMoFA', 'Distance': 'Distance unavailable', 'Dine_In_Available': True, 'Description': 'Plant-based Vietnamese food, with noodles & curries, in a modern, airy space with outdoor seats.', 'Coordinates': {'lat': 52.5260438, 'lng': 13.4114422}, 'Review_Count': 5, 'Review_Summary': 'Wonderful local. Very comfort and relaxing music\\nYou have to be seen to order but exercise and location great\\na great and good reinterpretation of Chinese cuisine with European and healthy tastes\\nWe love this place We are definitely back\\nGreat Price Quality Ratio\\nEasy to find and with a good panorama'}, {'Name': 'Monsieur Vuong', 'Rating': 4.5, 'Price_Level': 2, 'Place_ID': 'ChIJl_b_HuJRqEcRBlMB13SVyzg', 'Google_Maps_Link': 'https://www.google.com/maps?q=place_id:ChIJl_b_HuJRqEcRBlMB13SVyzg', 'Distance': 'Distance unavailable', 'Dine_In_Available': True, 'Description': 'Laid-back Vietnamese restaurant with banquette seating, outdoor tables & a trendy vibe.', 'Coordinates': {'lat': 52.5266538, 'lng': 13.4079523}, 'Review_Count': 5, 'Review_Summary': 'Love all food here. It is a quick eat and go type place. Cozy environment. All food was fresh delicious. Portion sizes are big. We bought chefs book which is very nice approach'}, {'Name': 'Vietnamese Restaurant Anjoy', 'Rating': 4.7, 'Price_Level': 2, 'Place_ID': 'ChIJzTSPWwFOqEcR9JseYbF2DXE', 'Google_Maps_Link': 'https://www.google.com/maps?q=place_id:ChIJzTSPWwFOqEcR9JseYbF2DXE', 'Distance': 'Distance unavailable', 'Dine_In_Available': True, 'Description': 'Flying noodles & pho soup at a relaxed Vietnamese stop, with sidewalk tables on a leafy square.', 'Coordinates': {'lat': 52.53617389999999, 'lng': 13.4205434}, 'Review_Count': 5, 'Review_Summary': 'I don’t eat asian much but I liked this one. I got H3, crispy duck with noodles and was very happy with my choice. Cannot say anything else about other options. The honey lemonade was also very delicious.\\n\\nWe had to wait too long before the waiter came to ask for our order but the food came quickly after that. Overall a nice experience :)'}, {'Name': 'Street Restaurant - Asian Grill', 'Rating': 4.7, 'Price_Level': None, 'Place_ID': 'ChIJJRfkLxNRqEcRV5xIADeFW3I', 'Google_Maps_Link': 'https://www.google.com/maps?q=place_id:ChIJJRfkLxNRqEcRV5xIADeFW3I', 'Distance': 'Distance unavailable', 'Dine_In_Available': True, 'Description': None, 'Coordinates': {'lat': 52.5403402, 'lng': 13.4149689}, 'Review_Count': 5, 'Review_Summary': 'The food’s tasty, the people are nice and the atmosphere is chill.\\n\\nMe and my friends recommend the Beef Pho, it’s sooo flavorful! The Pandan Tea was also tasty. It’s perfect for winter. The first time I ate here I ordered the fried tuna sushi. My mom recommends their grilled stuff, especially the sea food.'}, {'Name': 'Soup‘n Roll', 'Rating': 4.6, 'Price_Level': None, 'Place_ID': 'ChIJB7uqANYjZUERri8L8U7nSZ4', 'Google_Maps_Link': 'https://www.google.com/maps?q=place_id:ChIJB7uqANYjZUERri8L8U7nSZ4', 'Distance': 'Distance unavailable', 'Dine_In_Available': True, 'Description': None, 'Coordinates': {'lat': 52.529992, 'lng': 13.4022037}, 'Review_Count': 5, 'Review_Summary': 'I had sushi at Soup n Roll, and it was really good! the prices were reasonable. A great spot for a tasty sushi meal!'}, {'Name': 'Cowei Restaurant - Asian Fusion Berlin', 'Rating': 4.4, 'Price_Level': 1, 'Place_ID': 'ChIJ5UQ9VOdRqEcRvb0mcctwFqk', 'Google_Maps_Link': 'https://www.google.com/maps?q=place_id:ChIJ5UQ9VOdRqEcRvb0mcctwFqk', 'Distance': 'Distance unavailable', 'Dine_In_Available': True, 'Description': 'Pan-Asian dishes, including sushi, noodles & curry, in a rustic-chic space with a parkside terrace.', 'Coordinates': {'lat': 52.5222596, 'lng': 13.3996438}, 'Review_Count': 5, 'Review_Summary': \"Cute litte Vietnamese restaurant overlooking the river. Friendly staf and good food.\\n\\nI had the chicken pho for lunch. It was a huge bowl of comfy broth with a lot of chicken. It is Hanoi style, so there isn't much else in it, other than some beansprouts and onion. But the broth is nice and hearthy. I also really liked the dripped  Vietnamese coffee! If you're in the area and find it hard to find a nice place to eat, this is it!\"}, {'Name': 'royals & rice Berlin', 'Rating': 4.5, 'Price_Level': 2, 'Place_ID': 'ChIJ6c3F8-VRqEcRiicxeI5EOTI', 'Google_Maps_Link': 'https://www.google.com/maps?q=place_id:ChIJ6c3F8-VRqEcRiicxeI5EOTI', 'Distance': 'Distance unavailable', 'Dine_In_Available': True, 'Description': None, 'Coordinates': {'lat': 52.5289076, 'lng': 13.3959643}, 'Review_Count': 5, 'Review_Summary': 'Excellent evening in a special Asian restaurant.\\nThe food was great and so delicated.\\nThe drinks was fantastic and the atmosphere cosy and warm.\\nThe staff was really helpful and fast.\\nDefinitely I will come back to this place !!!!'}, {'Name': 'Nguyen Kitchen', 'Rating': 4.5, 'Price_Level': 2, 'Place_ID': 'ChIJG6-86vZRqEcRUXObQWX4qig', 'Google_Maps_Link': 'https://www.google.com/maps?q=place_id:ChIJG6-86vZRqEcRUXObQWX4qig', 'Distance': 'Distance unavailable', 'Dine_In_Available': True, 'Description': 'Sushi, noodle dishes & other Asian fare in a contemporary, family-run venue with outdoor seats.', 'Coordinates': {'lat': 52.540144, 'lng': 13.3949077}, 'Review_Count': 5, 'Review_Summary': \"The first dish was tasty, but the portion was a bit small compared to other Vietnamese restaurants that I’ve visited.\\nDon't recommend fried rice, it was cold, and not tasty, especially the shrimp, not tasty at all.\\nOverall price was ok and it is a cozy place.\"}]}\n",
      "==================================\u001b[1m Ai Message \u001b[0m==================================\n",
      "\n",
      "Here are some top Asian restaurants near latitude 52.53 and longitude 13.405:\n",
      "\n",
      "1. Rice and Shine Berlin\n",
      "- Rating: 4.8\n",
      "- Price Level: Not specified\n",
      "- Description: The food is quite delicious and authentic compared to other restaurants in Berlin. The holiday decor is especially great. It offers a delightful culinary experience.\n",
      "- Google Maps Link: https://www.google.com/maps?q=place_id:ChIJQdmBVwBRqEcRONRE7NCubrA\n",
      "\n",
      "2. SOY\n",
      "- Rating: 4.6\n",
      "- Price Level: 2\n",
      "- Description: Plant-based Vietnamese food, with noodles & curries, served in a modern, airy space with outdoor seats. Known for a great reinterpretation of Chinese cuisine with European and healthy tastes, great price-quality ratio.\n",
      "- Google Maps Link: https://www.google.com/maps?q=place_id:ChIJbX7JCh5OqEcRQbUaQ-aMoFA\n",
      "\n",
      "3. Street Restaurant - Asian Grill\n",
      "- Rating: 4.7\n",
      "- Price Level: Not specified\n",
      "- Description: Offers tasty food with a chill atmosphere. Recommended dishes include Beef Pho and fried tuna sushi. The people are nice and the ambiance is perfect for winter with tasty drinks like Pandan Tea.\n",
      "- Google Maps Link: https://www.google.com/maps?q=place_id:ChIJJRfkLxNRqEcRV5xIADeFW3I\n",
      "\n",
      "Let me know if you want more information or other types of restaurants!\n"
     ]
    }
   ],
   "source": [
    "messages = [HumanMessage(content=\"Give me some asian restaurants in lat: 52.53 and lng: 13.405\")]\n",
    "messages = agent.invoke({\"messages\": messages})\n",
    "for m in messages[\"messages\"]:\n",
    "    m.pretty_print()"
   ]
  },
  {
   "cell_type": "code",
   "execution_count": null,
   "id": "6c8540ec",
   "metadata": {},
   "outputs": [],
   "source": []
  }
 ],
 "metadata": {
  "kernelspec": {
   "display_name": ".venv",
   "language": "python",
   "name": "python3"
  },
  "language_info": {
   "codemirror_mode": {
    "name": "ipython",
    "version": 3
   },
   "file_extension": ".py",
   "mimetype": "text/x-python",
   "name": "python",
   "nbconvert_exporter": "python",
   "pygments_lexer": "ipython3",
   "version": "3.12.3"
  }
 },
 "nbformat": 4,
 "nbformat_minor": 5
}
